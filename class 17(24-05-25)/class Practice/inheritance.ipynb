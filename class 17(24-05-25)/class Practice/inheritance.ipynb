{
 "cells": [
  {
   "cell_type": "markdown",
   "id": "1851b606",
   "metadata": {},
   "source": [
    "### Learn about Inheritence in Python"
   ]
  },
  {
   "cell_type": "code",
   "execution_count": 1,
   "id": "453cfe4c",
   "metadata": {},
   "outputs": [],
   "source": [
    "class Animal:\n",
    "    def speak(self):\n",
    "        print(\"i make a sound\")\n"
   ]
  },
  {
   "cell_type": "code",
   "execution_count": null,
   "id": "b1a3631b",
   "metadata": {},
   "outputs": [],
   "source": [
    "class Dog(Animal):\n",
    "    "
   ]
  },
  {
   "cell_type": "markdown",
   "id": "93ca2453",
   "metadata": {},
   "source": [
    "#### User is parent class (login and logout) and admin is a child class (delete a user )"
   ]
  },
  {
   "cell_type": "code",
   "execution_count": null,
   "id": "35724ede",
   "metadata": {},
   "outputs": [
    {
     "name": "stdout",
     "output_type": "stream",
     "text": [
      "Adeel logged in.\n",
      "AdminBilal logged in.\n",
      "AdminBilal deleted user: Adeel\n",
      "AdminBilal logged out.\n",
      "AdminBilal accept user Request :(Adeel)\n",
      "Adeel want to become Admin\n",
      "user current role: requestForAdmin\n",
      "Now Adeel becomes the admin \n",
      "no request found\n"
     ]
    }
   ],
   "source": [
    "class User:\n",
    "    def __init__(self, username, password,role=''):\n",
    "        self.username = username\n",
    "        self.password = password\n",
    "        self.role=role\n",
    "\n",
    "    def login(self):\n",
    "        print(f\"{self.username} logged in.\")\n",
    "\n",
    "    def logout(self):\n",
    "        print(f\"{self.username} logged out.\")\n",
    "    def request_Admin(self):\n",
    "        print(f'{self.username} want to become Admin')\n",
    "        self.role=\"requestForAdmin\"\n",
    "    def shown_user(self):\n",
    "        print(f\"user current role: {self.role}\")    \n",
    "\n",
    "class Admin(User):  \n",
    "    def delete_user(self, user):\n",
    "        print(f\"{self.username} deleted user: {user.username}\")\n",
    "    def accept_user(self,user):\n",
    "        print(f\"{self.username} accept user Request :({user.username})\")\n",
    "    def accepted_request(self,user):\n",
    "        if user.role == \"requestForAdmin\":\n",
    "            print(f\"Now {user.username} becomes the admin \")\n",
    "        else:\n",
    "            print(\"no request found\")\n",
    "       \n",
    "\n",
    "# Create objects\n",
    "user1 = User(\"Adeel\", \"pass123\")\n",
    "admin1 = Admin(\"AdminBilal\", \"admin123\")\n",
    "user2=User(\"Ali\",\"pas123\",\"user\")\n",
    "\n",
    "# Test methods\n",
    "user1.login()          \n",
    "admin1.login()         \n",
    "admin1.delete_user(user1)\n",
    "admin1.logout()\n",
    "admin1.accept_user(user1)\n",
    "user1.request_Admin()\n",
    "user1.shown_user()  \n",
    "admin1.accepted_request(user1)\n",
    "admin1.accepted_request(user2) "
   ]
  },
  {
   "cell_type": "code",
   "execution_count": null,
   "id": "b166bcee",
   "metadata": {},
   "outputs": [],
   "source": []
  }
 ],
 "metadata": {
  "kernelspec": {
   "display_name": "base",
   "language": "python",
   "name": "python3"
  },
  "language_info": {
   "codemirror_mode": {
    "name": "ipython",
    "version": 3
   },
   "file_extension": ".py",
   "mimetype": "text/x-python",
   "name": "python",
   "nbconvert_exporter": "python",
   "pygments_lexer": "ipython3",
   "version": "3.12.7"
  }
 },
 "nbformat": 4,
 "nbformat_minor": 5
}
