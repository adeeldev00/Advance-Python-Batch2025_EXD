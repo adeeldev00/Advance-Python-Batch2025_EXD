{
 "cells": [
  {
   "cell_type": "markdown",
   "id": "f9895fc8",
   "metadata": {},
   "source": [
    "## Find All Palindromic Substrings"
   ]
  },
  {
   "cell_type": "markdown",
   "id": "193f0453",
   "metadata": {},
   "source": [
    "### Problem \n",
    "Given a string s, return the longest palindromic substring in s.\n",
    "\n",
    " \n",
    "\n",
    "#### Example 1:\n",
    "\n",
    "* Input: s = \"babad\"\n",
    "* Output: \"bab\"\n",
    "* Explanation: \"aba\" is also a valid answer.\n",
    "\n",
    "#### Example 2:\n",
    "\n",
    "* Input: s = \"cbbd\"\n",
    "* Output: \"bb\"\n",
    "\n",
    "#### Constraints:\n",
    "\n",
    "* 1 <= s.length <= 1000\n",
    "* s consist of only digits and English letters."
   ]
  },
  {
   "cell_type": "code",
   "execution_count": 18,
   "id": "867b4fdb",
   "metadata": {},
   "outputs": [
    {
     "name": "stdout",
     "output_type": "stream",
     "text": [
      "Longest Palindromic Substring: kakakak\n"
     ]
    }
   ],
   "source": [
    "def is_palindrome(s):\n",
    "    return s == s[::-1]\n",
    "\n",
    "def find_longest_palindromic_substring(text):\n",
    "    longest = \"\"\n",
    "    n = len(text)\n",
    "\n",
    "    for i in range(n):\n",
    "        for j in range(i + 1, n + 1):\n",
    "            substring = text[i:j]\n",
    "            if is_palindrome(substring) and len(substring) > len(longest):\n",
    "                longest = substring\n",
    "\n",
    "    return longest\n",
    "\n",
    "# Example usage\n",
    "text = input(\"Enter a string: \")\n",
    "result = find_longest_palindromic_substring(text)\n",
    "\n",
    "print(\"Longest Palindromic Substring:\", result)\n"
   ]
  },
  {
   "cell_type": "code",
   "execution_count": 19,
   "id": "21f5af86",
   "metadata": {},
   "outputs": [
    {
     "data": {
      "text/plain": [
       "True"
      ]
     },
     "execution_count": 19,
     "metadata": {},
     "output_type": "execute_result"
    }
   ],
   "source": [
    "x=10\n",
    "True if x>0 else False"
   ]
  },
  {
   "cell_type": "code",
   "execution_count": 21,
   "id": "45e1d80d",
   "metadata": {},
   "outputs": [
    {
     "name": "stdout",
     "output_type": "stream",
     "text": [
      "3\n",
      "['A', 'e', 'e']\n"
     ]
    }
   ],
   "source": [
    "# Check Vowel in name \n",
    "\n",
    "name=input(\"plz enter the name : \")\n",
    "vowel=(\"aAeEiIoOUu\")\n",
    "count=0\n",
    "char=[]\n",
    "for chr in name:\n",
    "    if chr in vowel:\n",
    "        count +=1\n",
    "        char.append(chr)\n",
    "\n",
    "\n",
    "print(count)\n",
    "print(char)        "
   ]
  },
  {
   "cell_type": "code",
   "execution_count": 24,
   "id": "33af49d3",
   "metadata": {},
   "outputs": [
    {
     "name": "stdout",
     "output_type": "stream",
     "text": [
      "7 x 1 = 7\n",
      "7 x 2 = 14\n",
      "7 x 3 = 21\n",
      "7 x 4 = 28\n",
      "7 x 5 = 35\n",
      "7 x 6 = 42\n",
      "7 x 7 = 49\n",
      "7 x 8 = 56\n",
      "7 x 9 = 63\n",
      "7 x 10 = 70\n"
     ]
    }
   ],
   "source": [
    "# print table \n",
    "tab=int(input(\"enter Number that you need table : \"))\n",
    "for i in range(1,11):\n",
    "    print(f\"{tab} x {i} = {tab*i}\")"
   ]
  },
  {
   "cell_type": "markdown",
   "id": "2b3d81f7",
   "metadata": {},
   "source": []
  }
 ],
 "metadata": {
  "kernelspec": {
   "display_name": "base",
   "language": "python",
   "name": "python3"
  },
  "language_info": {
   "codemirror_mode": {
    "name": "ipython",
    "version": 3
   },
   "file_extension": ".py",
   "mimetype": "text/x-python",
   "name": "python",
   "nbconvert_exporter": "python",
   "pygments_lexer": "ipython3",
   "version": "3.12.7"
  }
 },
 "nbformat": 4,
 "nbformat_minor": 5
}
