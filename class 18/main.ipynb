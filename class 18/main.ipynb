{
 "cells": [
  {
   "cell_type": "code",
   "execution_count": 6,
   "id": "a9d1689e",
   "metadata": {},
   "outputs": [
    {
     "name": "stdout",
     "output_type": "stream",
     "text": [
      "Drawing a circle\n",
      "Drawing a rectangle\n",
      "Drawing a shape\n"
     ]
    }
   ],
   "source": [
    "class Shape():\n",
    "    def draw(self):\n",
    "        print(\"Drawing a shape\")\n",
    "\n",
    "\n",
    "class Circle(Shape):\n",
    "    def draw(self):\n",
    "        print(\"Drawing a circle\")\n",
    "\n",
    "\n",
    "class Rectangle(Shape):\n",
    "    def draw(self):\n",
    "        print(\"Drawing a rectangle\")\n",
    "\n",
    "\n",
    "# Creating objects and calling their draw methods\n",
    "circle1 = Circle()\n",
    "circle1.draw()  # Output: Drawing a circle\n",
    "\n",
    "rectangle1 = Rectangle()\n",
    "rectangle1.draw()  # Output: Drawing a rectangle\n",
    "\n",
    "shape1 = Shape()\n",
    "shape1.draw()  # Output: Drawing a shape"
   ]
  },
  {
   "cell_type": "code",
   "execution_count": null,
   "id": "13d04e19",
   "metadata": {},
   "outputs": [
    {
     "name": "stdout",
     "output_type": "stream",
     "text": [
      "drwing a circle\n"
     ]
    }
   ],
   "source": []
  },
  {
   "cell_type": "code",
   "execution_count": null,
   "id": "703ae6e0",
   "metadata": {},
   "outputs": [
    {
     "name": "stdout",
     "output_type": "stream",
     "text": [
      "Manager's salary: 250000\n",
      "Developer's salary: 150000\n"
     ]
    }
   ],
   "source": [
    "class Employee:\n",
    "    def calculate_salary(self):\n",
    "        return 50000  \n",
    "\n",
    "class Manager(Employee):\n",
    "    def calculate_salary(self):\n",
    "        return super().calculate_salary() + 200000  \n",
    "\n",
    "class Developer(Employee):\n",
    "    def calculate_salary(self):\n",
    "        return super().calculate_salary() + 100000  \n",
    "\n",
    "\n",
    "manager = Manager()\n",
    "developer = Developer()\n",
    "\n",
    "\n",
    "print(f\"Manager's salary: {manager.calculate_salary()}\")      \n",
    "print(f\"Developer's salary: {developer.calculate_salary()}\")  "
   ]
  },
  {
   "cell_type": "code",
   "execution_count": 8,
   "id": "3335e372",
   "metadata": {},
   "outputs": [
    {
     "name": "stdout",
     "output_type": "stream",
     "text": [
      "John Smith (Manager, Marketing) salary: 250000\n",
      "Sarah Lee (Developer, Python) salary: 150000\n"
     ]
    }
   ],
   "source": [
    "class Employee:\n",
    "    def __init__(self, name):\n",
    "        self.name = name  \n",
    "    \n",
    "    def calculate_salary(self):\n",
    "        return 50000  \n",
    "\n",
    "class Manager(Employee):\n",
    "    def __init__(self, name, department):\n",
    "        super().__init__(name)  \n",
    "        self.department = department  \n",
    "    \n",
    "    def calculate_salary(self):\n",
    "        return super().calculate_salary() + 200000  \n",
    "\n",
    "class Developer(Employee):\n",
    "    def __init__(self, name, programming_language):\n",
    "        super().__init__(name)  \n",
    "        self.programming_language = programming_language  \n",
    "\n",
    "    def calculate_salary(self):\n",
    "        return super().calculate_salary() + 100000  \n",
    "\n",
    "\n",
    "manager = Manager(\"John Smith\", \"Marketing\")\n",
    "developer = Developer(\"Sarah Lee\", \"Python\")\n",
    "\n",
    "\n",
    "print(f\"{manager.name} (Manager, {manager.department}) salary: {manager.calculate_salary()}\")      \n",
    "print(f\"{developer.name} (Developer, {developer.programming_language}) salary: {developer.calculate_salary()}\")  "
   ]
  },
  {
   "cell_type": "markdown",
   "id": "2fa056ae",
   "metadata": {},
   "source": [
    "<h2 style=\"align center\">Operator Overloading</h2>"
   ]
  },
  {
   "cell_type": "code",
   "execution_count": null,
   "id": "080db63b",
   "metadata": {},
   "outputs": [],
   "source": [
    "class Book:\n",
    "    def __init__(self, title, pages, price):\n",
    "        self.title = title\n",
    "        self.pages = pages\n",
    "        self.price = price\n",
    "\n",
    "    def __sub__(self, other):\n",
    "        return self.price - other.price\n",
    "\n",
    "    def __add__(self, other):\n",
    "        return self.pages + other.pages\n",
    "\n",
    "b1 = Book(\"my\", 400, 1200)\n",
    "b2 = Book(\"you\", 250, 1000)\n",
    "\n",
    "total_pages = b1 + b2\n",
    "print(\"Total pages:\", total_pages)  # Output: Total pages: 650\n",
    "\n",
    "price_difference = b1 - b2\n",
    "print(\"Price difference:\", price_difference)  # Output: Price difference: 200"
   ]
  },
  {
   "cell_type": "code",
   "execution_count": null,
   "id": "cf95602d",
   "metadata": {},
   "outputs": [],
   "source": []
  }
 ],
 "metadata": {
  "kernelspec": {
   "display_name": "base",
   "language": "python",
   "name": "python3"
  },
  "language_info": {
   "codemirror_mode": {
    "name": "ipython",
    "version": 3
   },
   "file_extension": ".py",
   "mimetype": "text/x-python",
   "name": "python",
   "nbconvert_exporter": "python",
   "pygments_lexer": "ipython3",
   "version": "3.12.7"
  }
 },
 "nbformat": 4,
 "nbformat_minor": 5
}
