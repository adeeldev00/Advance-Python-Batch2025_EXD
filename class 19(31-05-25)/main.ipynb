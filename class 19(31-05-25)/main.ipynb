{
 "cells": [
  {
   "cell_type": "markdown",
   "id": "b3012804",
   "metadata": {},
   "source": [
    "# Today we learn about Python"
   ]
  },
  {
   "cell_type": "markdown",
   "id": "ae66abc8",
   "metadata": {},
   "source": []
  },
  {
   "cell_type": "code",
   "execution_count": 3,
   "id": "bf9687bb",
   "metadata": {},
   "outputs": [
    {
     "name": "stdout",
     "output_type": "stream",
     "text": [
      "True\n",
      "False\n",
      "None\n",
      "Ellipsis\n",
      "True\n"
     ]
    }
   ],
   "source": [
    "print(True)\n",
    "print(False)\n",
    "x=None\n",
    "print(x)\n",
    "\n",
    "print(...)\n",
    "\n",
    "def add(a, b):\n",
    "    return NotImplemented\n",
    "\n",
    "print(__debug__)    \n",
    "\n"
   ]
  },
  {
   "cell_type": "code",
   "execution_count": null,
   "id": "d6215ad4",
   "metadata": {},
   "outputs": [],
   "source": [
    "# whata is ellipsis?\n",
    "# used for placeholders, e.g. in function definitions or type hints ,,, advanced slicing\n",
    "\n",
    "# mean something is missing so we used ... here i used python ellipsis object"
   ]
  },
  {
   "cell_type": "code",
   "execution_count": null,
   "id": "31732e2f",
   "metadata": {},
   "outputs": [
    {
     "name": "stdout",
     "output_type": "stream",
     "text": [
      "[[[ 0  1  2]\n",
      "  [ 3  4  5]\n",
      "  [ 6  7  8]]\n",
      "\n",
      " [[ 9 10 11]\n",
      "  [12 13 14]\n",
      "  [15 16 17]]\n",
      "\n",
      " [[18 19 20]\n",
      "  [21 22 23]\n",
      "  [24 25 26]]]\n",
      "-----------------------------\n"
     ]
    }
   ],
   "source": [
    "import numpy as np\n",
    "arr=np.arange(27).reshape(3,3,3)\n",
    "print(arr)\n",
    "print(\"-----------------------------\")\n",
    "\n",
    "\n"
   ]
  },
  {
   "cell_type": "code",
   "execution_count": 11,
   "id": "066887a1",
   "metadata": {},
   "outputs": [
    {
     "name": "stdout",
     "output_type": "stream",
     "text": [
      "[[ 0  3  6]\n",
      " [ 9 12 15]\n",
      " [18 21 24]] \n",
      "\n",
      "[[ 0  3  6]\n",
      " [ 9 12 15]\n",
      " [18 21 24]] \n",
      "\n",
      "[[ 1  4  7]\n",
      " [10 13 16]\n",
      " [19 22 25]] \n",
      "\n"
     ]
    }
   ],
   "source": [
    "print(arr[:,:,0],'\\n')\n",
    "print(arr[...,0],'\\n')  # using ellipsis to select all elements in the last dimension\n",
    "print(arr[...,1],'\\n')  # using ellipsis to select all elements in the last dimension"
   ]
  },
  {
   "cell_type": "code",
   "execution_count": 18,
   "id": "5c1fe905",
   "metadata": {},
   "outputs": [
    {
     "name": "stdout",
     "output_type": "stream",
     "text": [
      "[[[ 0  1  2]\n",
      "  [ 3  4  5]\n",
      "  [ 6  7  8]]\n",
      "\n",
      " [[ 9 10 11]\n",
      "  [12 13 14]\n",
      "  [15 16 17]]\n",
      "\n",
      " [[18 19 20]\n",
      "  [21 22 23]\n",
      "  [24 25 26]]] \n",
      "\n",
      "\n",
      "======================================\n",
      "[[ 0  1  2]\n",
      " [ 9 10 11]\n",
      " [18 19 20]]\n"
     ]
    }
   ],
   "source": [
    "print(arr,'\\n\\n')\n",
    "# filter only first row of each one\n",
    "print('======================================')\n",
    "print(arr[:, 0, ...])\n"
   ]
  },
  {
   "cell_type": "code",
   "execution_count": 19,
   "id": "90ddf7a3",
   "metadata": {},
   "outputs": [
    {
     "name": "stdout",
     "output_type": "stream",
     "text": [
      "[[0 1 2]\n",
      " [3 4 5]\n",
      " [6 7 8]] \n",
      "\n"
     ]
    }
   ],
   "source": [
    "print(arr[0,...],'\\n')  # using ellipsis to select all elements in the last dimension"
   ]
  },
  {
   "cell_type": "code",
   "execution_count": 20,
   "id": "58f2e237",
   "metadata": {},
   "outputs": [
    {
     "name": "stdout",
     "output_type": "stream",
     "text": [
      "Ellipsis\n"
     ]
    }
   ],
   "source": [
    "print(...)"
   ]
  },
  {
   "cell_type": "code",
   "execution_count": 30,
   "id": "b2529cab",
   "metadata": {},
   "outputs": [
    {
     "name": "stdout",
     "output_type": "stream",
     "text": [
      "Hello, Adeel!\n",
      "Hello, 123!\n",
      "15\n",
      "NumAdeel\n"
     ]
    }
   ],
   "source": [
    "# concept of type Hint\n",
    "\n",
    "\n",
    "def greet(name: str) -> str:\n",
    "    return f\"Hello, {name}!\"\n",
    "\n",
    "\n",
    "print(greet(\"Adeel\"))\n",
    "print(greet(123))\n",
    "\n",
    "\n",
    "def add_numbers(a: int, b: int) -> int:\n",
    "    return a + b\n",
    "\n",
    "print(add_numbers(5, 10))\n",
    "print(add_numbers(\"Num\", \"Adeel\"))  \n",
    "\n"
   ]
  },
  {
   "cell_type": "code",
   "execution_count": null,
   "id": "e4dddcf8",
   "metadata": {},
   "outputs": [
    {
     "name": "stdout",
     "output_type": "stream",
     "text": [
      "call_back_fun print :  42\n",
      "None\n"
     ]
    }
   ],
   "source": [
    "#  use ellipse in callable \n",
    "\n",
    "from typing import Callable\n",
    "def call_back_fun(f: Callable[...,int]):\n",
    "    result=f('hello',7,False)\n",
    "    print('call_back_fun print : ',result)\n",
    "\n",
    "def sample_function(a,b,c):\n",
    "    return 42    \n",
    "\n",
    "a=call_back_fun(sample_function)\n",
    "print(\"what a is print\",a)\n"
   ]
  },
  {
   "cell_type": "code",
   "execution_count": null,
   "id": "3d99621e",
   "metadata": {},
   "outputs": [],
   "source": [
    "# use ellipsis in get item method of a class\n",
    "class MyClass:\n",
    "    def __getitem__(self, item):\n",
    "        if item is ...:  # Check for ellipsis\n",
    "            return \"You used ellipsis!\"\n",
    "        return f\"You accessed item: {item}\"\n",
    "    \n",
    "    "
   ]
  },
  {
   "cell_type": "code",
   "execution_count": 42,
   "id": "3e215d01",
   "metadata": {},
   "outputs": [
    {
     "name": "stdout",
     "output_type": "stream",
     "text": [
      "False\n"
     ]
    }
   ],
   "source": [
    "# not implemented example\n",
    "class MyNotImplementedClass:\n",
    "    def my_method(self):\n",
    "        return NotImplemented\n",
    "\n",
    "\n",
    "\n",
    "# Example of NotImplemented in equality checks\n",
    "\n",
    "\n",
    "class A:\n",
    "    def __eq__(self,other):\n",
    "        if isinstance(other, B):\n",
    "            return False\n",
    "        return NotImplemented\n",
    "\n",
    "class B:\n",
    "    def __eq__(self, other):\n",
    "        if isinstance(other, A):\n",
    "            return True\n",
    "        return NotImplemented\n",
    "\n",
    "a=A()\n",
    "b=B()\n",
    "print(a == b)  # This will return NotImplemented\n"
   ]
  },
  {
   "cell_type": "code",
   "execution_count": 40,
   "id": "133909ce",
   "metadata": {},
   "outputs": [
    {
     "name": "stdout",
     "output_type": "stream",
     "text": [
      "False\n"
     ]
    }
   ],
   "source": [
    "print(b == a)  # This will return False, as B's __eq__ method returns False for A        "
   ]
  },
  {
   "cell_type": "code",
   "execution_count": 43,
   "id": "c140ac62",
   "metadata": {},
   "outputs": [
    {
     "name": "stdout",
     "output_type": "stream",
     "text": [
      "False\n",
      "True\n"
     ]
    }
   ],
   "source": [
    "\n",
    "class Teacher:\n",
    "    def __eq__(self, other):\n",
    "        if isinstance(other, Student):\n",
    "            return False  # Teachers are not equal to students\n",
    "        return NotImplemented\n",
    "\n",
    "class Student:\n",
    "    def __eq__(self, other):\n",
    "        if isinstance(other, Teacher):\n",
    "            return True  # Students respect teachers and say they're equal 😄\n",
    "        return NotImplemented\n",
    "\n",
    "t = Teacher()\n",
    "s = Student()\n",
    "\n",
    "print(t == s)  # Output: False\n",
    "print(s == t)  # Output: True\n"
   ]
  },
  {
   "cell_type": "code",
   "execution_count": 44,
   "id": "88d6f1bb",
   "metadata": {},
   "outputs": [
    {
     "name": "stdout",
     "output_type": "stream",
     "text": [
      "True\n"
     ]
    }
   ],
   "source": [
    "class A:\n",
    "    def __eq__(self, other):\n",
    "        return NotImplemented  \n",
    "\n",
    "class B:\n",
    "    def __eq__(self, other):\n",
    "        if isinstance(other, A):\n",
    "            return True  \n",
    "        return NotImplemented\n",
    "\n",
    "a = A()\n",
    "b = B()\n",
    "\n",
    "print(a == b)  # Output: True\n"
   ]
  },
  {
   "cell_type": "code",
   "execution_count": 45,
   "id": "0dfe9058",
   "metadata": {},
   "outputs": [
    {
     "name": "stdout",
     "output_type": "stream",
     "text": [
      "False\n"
     ]
    }
   ],
   "source": [
    "class A:\n",
    "    def __eq__(self, other):\n",
    "        return NotImplemented  \n",
    "\n",
    "class B:\n",
    "    def __eq__(self, other):\n",
    "        return NotImplemented  \n",
    "\n",
    "a = A()\n",
    "b = B()\n",
    "\n",
    "print(a == b)  # Output: False\n"
   ]
  },
  {
   "cell_type": "code",
   "execution_count": null,
   "id": "c5b4d38c",
   "metadata": {},
   "outputs": [
    {
     "name": "stdout",
     "output_type": "stream",
     "text": [
      "False\n"
     ]
    }
   ],
   "source": [
    "class A:\n",
    "    def __eq__(self, other):\n",
    "        if isinstance(other, B):\n",
    "            return False  \n",
    "        return NotImplemented\n",
    "\n",
    "class B:\n",
    "    def __eq__(self, other):\n",
    "        return NotImplemented  \n",
    "\n",
    "a = A()\n",
    "b = B()\n",
    "\n",
    "print(a == b)  # Output: False\n"
   ]
  },
  {
   "cell_type": "code",
   "execution_count": null,
   "id": "d242dca2",
   "metadata": {},
   "outputs": [],
   "source": []
  }
 ],
 "metadata": {
  "kernelspec": {
   "display_name": "base",
   "language": "python",
   "name": "python3"
  },
  "language_info": {
   "codemirror_mode": {
    "name": "ipython",
    "version": 3
   },
   "file_extension": ".py",
   "mimetype": "text/x-python",
   "name": "python",
   "nbconvert_exporter": "python",
   "pygments_lexer": "ipython3",
   "version": "3.12.7"
  }
 },
 "nbformat": 4,
 "nbformat_minor": 5
}
