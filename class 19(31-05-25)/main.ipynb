{
 "cells": [
  {
   "cell_type": "markdown",
   "id": "b3012804",
   "metadata": {},
   "source": [
    "# Today we learn about Python"
   ]
  },
  {
   "cell_type": "markdown",
   "id": "ae66abc8",
   "metadata": {},
   "source": []
  },
  {
   "cell_type": "code",
   "execution_count": 3,
   "id": "bf9687bb",
   "metadata": {},
   "outputs": [
    {
     "name": "stdout",
     "output_type": "stream",
     "text": [
      "True\n",
      "False\n",
      "None\n",
      "Ellipsis\n",
      "True\n"
     ]
    }
   ],
   "source": [
    "print(True)\n",
    "print(False)\n",
    "x=None\n",
    "print(x)\n",
    "\n",
    "print(...)\n",
    "\n",
    "def add(a, b):\n",
    "    return NotImplemented\n",
    "\n",
    "print(__debug__)    \n",
    "\n"
   ]
  },
  {
   "cell_type": "code",
   "execution_count": null,
   "id": "d6215ad4",
   "metadata": {},
   "outputs": [],
   "source": [
    "# whata is ellipsis?\n",
    "# used for placeholders, e.g. in function definitions or type hints ,,, advanced slicing\n",
    "\n",
    "# mean something is missing so we used ... here i used python ellipsis object"
   ]
  },
  {
   "cell_type": "code",
   "execution_count": null,
   "id": "31732e2f",
   "metadata": {},
   "outputs": [
    {
     "name": "stdout",
     "output_type": "stream",
     "text": [
      "[[[ 0  1  2]\n",
      "  [ 3  4  5]\n",
      "  [ 6  7  8]]\n",
      "\n",
      " [[ 9 10 11]\n",
      "  [12 13 14]\n",
      "  [15 16 17]]\n",
      "\n",
      " [[18 19 20]\n",
      "  [21 22 23]\n",
      "  [24 25 26]]]\n",
      "-----------------------------\n"
     ]
    }
   ],
   "source": [
    "import numpy as np\n",
    "arr=np.arange(27).reshape(3,3,3)\n",
    "print(arr)\n",
    "print(\"-----------------------------\")\n",
    "\n",
    "\n"
   ]
  },
  {
   "cell_type": "code",
   "execution_count": 11,
   "id": "066887a1",
   "metadata": {},
   "outputs": [
    {
     "name": "stdout",
     "output_type": "stream",
     "text": [
      "[[ 0  3  6]\n",
      " [ 9 12 15]\n",
      " [18 21 24]] \n",
      "\n",
      "[[ 0  3  6]\n",
      " [ 9 12 15]\n",
      " [18 21 24]] \n",
      "\n",
      "[[ 1  4  7]\n",
      " [10 13 16]\n",
      " [19 22 25]] \n",
      "\n"
     ]
    }
   ],
   "source": [
    "print(arr[:,:,0],'\\n')\n",
    "print(arr[...,0],'\\n')  # using ellipsis to select all elements in the last dimension\n",
    "print(arr[...,1],'\\n')  # using ellipsis to select all elements in the last dimension"
   ]
  },
  {
   "cell_type": "code",
   "execution_count": 18,
   "id": "5c1fe905",
   "metadata": {},
   "outputs": [
    {
     "name": "stdout",
     "output_type": "stream",
     "text": [
      "[[[ 0  1  2]\n",
      "  [ 3  4  5]\n",
      "  [ 6  7  8]]\n",
      "\n",
      " [[ 9 10 11]\n",
      "  [12 13 14]\n",
      "  [15 16 17]]\n",
      "\n",
      " [[18 19 20]\n",
      "  [21 22 23]\n",
      "  [24 25 26]]] \n",
      "\n",
      "\n",
      "======================================\n",
      "[[ 0  1  2]\n",
      " [ 9 10 11]\n",
      " [18 19 20]]\n"
     ]
    }
   ],
   "source": [
    "print(arr,'\\n\\n')\n",
    "# filter only first row of each one\n",
    "print('======================================')\n",
    "print(arr[:, 0, ...])\n"
   ]
  },
  {
   "cell_type": "code",
   "execution_count": 19,
   "id": "90ddf7a3",
   "metadata": {},
   "outputs": [
    {
     "name": "stdout",
     "output_type": "stream",
     "text": [
      "[[0 1 2]\n",
      " [3 4 5]\n",
      " [6 7 8]] \n",
      "\n"
     ]
    }
   ],
   "source": [
    "print(arr[0,...],'\\n')  # using ellipsis to select all elements in the last dimension"
   ]
  },
  {
   "cell_type": "code",
   "execution_count": 20,
   "id": "58f2e237",
   "metadata": {},
   "outputs": [
    {
     "name": "stdout",
     "output_type": "stream",
     "text": [
      "Ellipsis\n"
     ]
    }
   ],
   "source": [
    "print(...)"
   ]
  },
  {
   "cell_type": "code",
   "execution_count": 30,
   "id": "b2529cab",
   "metadata": {},
   "outputs": [
    {
     "name": "stdout",
     "output_type": "stream",
     "text": [
      "Hello, Adeel!\n",
      "Hello, 123!\n",
      "15\n",
      "NumAdeel\n"
     ]
    }
   ],
   "source": [
    "# concept of type Hint\n",
    "\n",
    "\n",
    "def greet(name: str) -> str:\n",
    "    return f\"Hello, {name}!\"\n",
    "\n",
    "\n",
    "print(greet(\"Adeel\"))\n",
    "print(greet(123))\n",
    "\n",
    "\n",
    "def add_numbers(a: int, b: int) -> int:\n",
    "    return a + b\n",
    "\n",
    "print(add_numbers(5, 10))\n",
    "print(add_numbers(\"Num\", \"Adeel\"))  \n",
    "\n"
   ]
  },
  {
   "cell_type": "code",
   "execution_count": null,
   "id": "e4dddcf8",
   "metadata": {},
   "outputs": [
    {
     "name": "stdout",
     "output_type": "stream",
     "text": [
      "call_back_fun print :  42\n",
      "None\n"
     ]
    }
   ],
   "source": [
    "#  use ellipse in callable \n",
    "\n",
    "from typing import Callable\n",
    "def call_back_fun(f: Callable[...,int]):\n",
    "    result=f('hello',7,False)\n",
    "    print('call_back_fun print : ',result)\n",
    "\n",
    "def sample_function(a,b,c):\n",
    "    return 42    \n",
    "\n",
    "a=call_back_fun(sample_function)\n",
    "print(\"what a is print\",a)\n"
   ]
  },
  {
   "cell_type": "code",
   "execution_count": null,
   "id": "3d99621e",
   "metadata": {},
   "outputs": [],
   "source": [
    "# use ellipsis in get item method of a class\n",
    "class MyClass:\n",
    "    def __getitem__(self, item):\n",
    "        if item is ...:  # Check for ellipsis\n",
    "            return \"You used ellipsis!\"\n",
    "        return f\"You accessed item: {item}\"\n",
    "    \n",
    "    "
   ]
  },
  {
   "cell_type": "code",
   "execution_count": 42,
   "id": "3e215d01",
   "metadata": {},
   "outputs": [
    {
     "name": "stdout",
     "output_type": "stream",
     "text": [
      "False\n"
     ]
    }
   ],
   "source": [
    "# not implemented example\n",
    "class MyNotImplementedClass:\n",
    "    def my_method(self):\n",
    "        return NotImplemented\n",
    "\n",
    "\n",
    "\n",
    "# Example of NotImplemented in equality checks\n",
    "\n",
    "\n",
    "class A:\n",
    "    def __eq__(self,other):\n",
    "        if isinstance(other, B):\n",
    "            return False\n",
    "        return NotImplemented\n",
    "\n",
    "class B:\n",
    "    def __eq__(self, other):\n",
    "        if isinstance(other, A):\n",
    "            return True\n",
    "        return NotImplemented\n",
    "\n",
    "a=A()\n",
    "b=B()\n",
    "print(a == b)  # This will return NotImplemented\n"
   ]
  },
  {
   "cell_type": "code",
   "execution_count": 40,
   "id": "133909ce",
   "metadata": {},
   "outputs": [
    {
     "name": "stdout",
     "output_type": "stream",
     "text": [
      "False\n"
     ]
    }
   ],
   "source": [
    "print(b == a)  # This will return False, as B's __eq__ method returns False for A        "
   ]
  },
  {
   "cell_type": "code",
   "execution_count": 43,
   "id": "c140ac62",
   "metadata": {},
   "outputs": [
    {
     "name": "stdout",
     "output_type": "stream",
     "text": [
      "False\n",
      "True\n"
     ]
    }
   ],
   "source": [
    "\n",
    "class Teacher:\n",
    "    def __eq__(self, other):\n",
    "        if isinstance(other, Student):\n",
    "            return False  # Teachers are not equal to students\n",
    "        return NotImplemented\n",
    "\n",
    "class Student:\n",
    "    def __eq__(self, other):\n",
    "        if isinstance(other, Teacher):\n",
    "            return True  # Students respect teachers and say they're equal 😄\n",
    "        return NotImplemented\n",
    "\n",
    "t = Teacher()\n",
    "s = Student()\n",
    "\n",
    "print(t == s)  # Output: False\n",
    "print(s == t)  # Output: True\n"
   ]
  },
  {
   "cell_type": "code",
   "execution_count": 44,
   "id": "88d6f1bb",
   "metadata": {},
   "outputs": [
    {
     "name": "stdout",
     "output_type": "stream",
     "text": [
      "True\n"
     ]
    }
   ],
   "source": [
    "class A:\n",
    "    def __eq__(self, other):\n",
    "        return NotImplemented  \n",
    "\n",
    "class B:\n",
    "    def __eq__(self, other):\n",
    "        if isinstance(other, A):\n",
    "            return True  \n",
    "        return NotImplemented\n",
    "\n",
    "a = A()\n",
    "b = B()\n",
    "\n",
    "print(a == b)  # Output: True\n"
   ]
  },
  {
   "cell_type": "code",
   "execution_count": 45,
   "id": "0dfe9058",
   "metadata": {},
   "outputs": [
    {
     "name": "stdout",
     "output_type": "stream",
     "text": [
      "False\n"
     ]
    }
   ],
   "source": [
    "class A:\n",
    "    def __eq__(self, other):\n",
    "        return NotImplemented  \n",
    "\n",
    "class B:\n",
    "    def __eq__(self, other):\n",
    "        return NotImplemented  \n",
    "\n",
    "a = A()\n",
    "b = B()\n",
    "\n",
    "print(a == b)  # Output: False\n"
   ]
  },
  {
   "cell_type": "code",
   "execution_count": null,
   "id": "c5b4d38c",
   "metadata": {},
   "outputs": [
    {
     "name": "stdout",
     "output_type": "stream",
     "text": [
      "False\n"
     ]
    }
   ],
   "source": [
    "class A:\n",
    "    def __eq__(self, other):\n",
    "        if isinstance(other, B):\n",
    "            return False  \n",
    "        return NotImplemented\n",
    "\n",
    "class B:\n",
    "    def __eq__(self, other):\n",
    "        return NotImplemented  \n",
    "\n",
    "a = A()\n",
    "b = B()\n",
    "\n",
    "print(a == b)  # Output: False\n"
   ]
  },
  {
   "cell_type": "code",
   "execution_count": 48,
   "id": "d242dca2",
   "metadata": {},
   "outputs": [
    {
     "name": "stdout",
     "output_type": "stream",
     "text": [
      "[1, 1]\n"
     ]
    }
   ],
   "source": [
    "import random\n",
    "from typing import Callable, List\n",
    "\n",
    "# Step 1: Dice Roller\n",
    "def roll_dice() -> int:\n",
    "    return random.randint(1, 6)\n",
    "\n",
    "# Step 2: Luck Tester\n",
    "def test_your_luck(callback: Callable[..., int], N: int) -> List[int]:\n",
    "    results = []\n",
    "    for _ in range(N):\n",
    "        results.append(callback())  # Roll dice N times\n",
    "    return results\n",
    "\n",
    "# Example Usage\n",
    "luck_results = test_your_luck(roll_dice, 2)\n",
    "print(luck_results)  # e.g., [4, 1, 6]"
   ]
  },
  {
   "cell_type": "code",
   "execution_count": 49,
   "id": "4b77ce13",
   "metadata": {},
   "outputs": [
    {
     "name": "stdout",
     "output_type": "stream",
     "text": [
      "True\n",
      "True\n"
     ]
    }
   ],
   "source": [
    "class Robot:\n",
    "    def __eq__(self, other):\n",
    "        if isinstance(other, Human):\n",
    "            return NotImplemented  # \"I don't know—ask the Human!\"\n",
    "        return super().__eq__(other)  # Default behavior (not needed here)\n",
    "\n",
    "class Human:\n",
    "    def __eq__(self, other):\n",
    "        if isinstance(other, Robot):\n",
    "            return True  # Humans always say robots are equal!\n",
    "        return super().__eq__(other)\n",
    "\n",
    "# Test\n",
    "robot = Robot()\n",
    "human = Human()\n",
    "\n",
    "print(robot == human)  # Output: True (Python asks Human.__eq__)\n",
    "print(human == robot)  # Output: True (Human.__eq__ says yes)"
   ]
  },
  {
   "cell_type": "code",
   "execution_count": null,
   "id": "f6fa2d36",
   "metadata": {},
   "outputs": [],
   "source": [
    "# what is static accessor\n",
    "# two types of accessors in python\n",
    "# static methodes (me actually not doing anything)\n",
    "# class methods (me actually doing something) ko class k bare me pataho hai\n",
    "# \n",
    "# \n",
    "class StaticAccessor:\n",
    "    @staticmethod\n",
    "    def static_method():\n",
    "        return \"This is a static method!\""
   ]
  },
  {
   "cell_type": "code",
   "execution_count": null,
   "id": "9bab2d61",
   "metadata": {},
   "outputs": [
    {
     "name": "stdout",
     "output_type": "stream",
     "text": [
      "i am instaance methode\n",
      "systrem\n",
      "i am a class method.my class is <class '__main__.Example'>\n",
      "systrem\n",
      "i am a static methode. i don't know how to class or object.\n"
     ]
    },
    {
     "ename": "NameError",
     "evalue": "name 'self' is not defined",
     "output_type": "error",
     "traceback": [
      "\u001b[31m---------------------------------------------------------------------------\u001b[39m",
      "\u001b[31mNameError\u001b[39m                                 Traceback (most recent call last)",
      "\u001b[36mCell\u001b[39m\u001b[36m \u001b[39m\u001b[32mIn[56]\u001b[39m\u001b[32m, line 19\u001b[39m\n\u001b[32m     17\u001b[39m e.instance_methode()\n\u001b[32m     18\u001b[39m e.class_method()\n\u001b[32m---> \u001b[39m\u001b[32m19\u001b[39m \u001b[43me\u001b[49m\u001b[43m.\u001b[49m\u001b[43mstatic_method\u001b[49m\u001b[43m(\u001b[49m\u001b[43m)\u001b[49m        \n",
      "\u001b[36mCell\u001b[39m\u001b[36m \u001b[39m\u001b[32mIn[56]\u001b[39m\u001b[32m, line 14\u001b[39m, in \u001b[36mExample.static_method\u001b[39m\u001b[34m()\u001b[39m\n\u001b[32m     11\u001b[39m \u001b[38;5;129m@staticmethod\u001b[39m\n\u001b[32m     12\u001b[39m \u001b[38;5;28;01mdef\u001b[39;00m\u001b[38;5;250m \u001b[39m\u001b[34mstatic_method\u001b[39m():\n\u001b[32m     13\u001b[39m     \u001b[38;5;28mprint\u001b[39m(\u001b[33m\"\u001b[39m\u001b[33mi am a static methode. i don\u001b[39m\u001b[33m'\u001b[39m\u001b[33mt know how to class or object.\u001b[39m\u001b[33m\"\u001b[39m)  \n\u001b[32m---> \u001b[39m\u001b[32m14\u001b[39m     \u001b[38;5;28mprint\u001b[39m(\u001b[38;5;28;43mself\u001b[39;49m.company)\n",
      "\u001b[31mNameError\u001b[39m: name 'self' is not defined"
     ]
    }
   ],
   "source": [
    "class Example:\n",
    "    company=\"systrem\"\n",
    "    \n",
    "    # regular accesser\n",
    "    def instance_methode(self):\n",
    "        print('i am instaance methode')\n",
    "        print(self.company)\n",
    "    # class accesor \n",
    "    @classmethod\n",
    "    def class_method(cls):\n",
    "        print(f\"i am a class method.my class is {cls}\") \n",
    "        print(cls.company)\n",
    "    # static accessors   \n",
    "    @staticmethod\n",
    "    def static_method():\n",
    "        print(\"i am a static methode. i don't know how to class or object.\")  \n",
    "        # print(self.company)  \n",
    "\n",
    "\n",
    "e = Example()\n",
    "e.instance_methode()\n",
    "e.class_method()\n",
    "e.static_method()        "
   ]
  },
  {
   "cell_type": "code",
   "execution_count": 58,
   "id": "e4ec2f6e",
   "metadata": {},
   "outputs": [
    {
     "name": "stdout",
     "output_type": "stream",
     "text": [
      "78.53981633974483\n"
     ]
    }
   ],
   "source": [
    "# use case static methodes\n",
    "\n",
    "'''\n",
    "1)\n",
    "\n",
    "\n",
    "'''\n",
    "\n",
    "import math\n",
    "class geometry:\n",
    "    @staticmethod\n",
    "    def area_of_circle(radius):\n",
    "        return math.pi * radius ** 2\n",
    "print(geometry.area_of_circle(5))"
   ]
  },
  {
   "cell_type": "code",
   "execution_count": null,
   "id": "714d254a",
   "metadata": {},
   "outputs": [
    {
     "ename": "TypeError",
     "evalue": "Door() takes no arguments",
     "output_type": "error",
     "traceback": [
      "\u001b[31m---------------------------------------------------------------------------\u001b[39m",
      "\u001b[31mTypeError\u001b[39m                                 Traceback (most recent call last)",
      "\u001b[36mCell\u001b[39m\u001b[36m \u001b[39m\u001b[32mIn[62]\u001b[39m\u001b[32m, line 19\u001b[39m\n\u001b[32m     16\u001b[39m         Raw, size = info_str.split(\u001b[33m'\u001b[39m\u001b[33m,\u001b[39m\u001b[33m'\u001b[39m)\n\u001b[32m     17\u001b[39m         \u001b[38;5;28;01mreturn\u001b[39;00m \u001b[38;5;28mcls\u001b[39m(Raw.strip(), \u001b[38;5;28mint\u001b[39m(size.strip()))  \n\u001b[32m---> \u001b[39m\u001b[32m19\u001b[39m a = \u001b[43mDoor\u001b[49m\u001b[43m(\u001b[49m\u001b[33;43m'\u001b[39;49m\u001b[33;43mWooden\u001b[39;49m\u001b[33;43m'\u001b[39;49m\u001b[43m,\u001b[49m\u001b[32;43m7\u001b[39;49m\u001b[43m)\u001b[49m\n\u001b[32m     20\u001b[39m b = Door.from_string(\u001b[33m\"\u001b[39m\u001b[33mPython 101, 350\u001b[39m\u001b[33m\"\u001b[39m)\n\u001b[32m     21\u001b[39m \u001b[38;5;28mprint\u001b[39m(b.Raw, b.size)  \u001b[38;5;66;03m# 输出: Python 101 350\u001b[39;00m\n",
      "\u001b[31mTypeError\u001b[39m: Door() takes no arguments"
     ]
    }
   ],
   "source": [
    "# class method\n",
    "\n",
    "# factory method\n",
    "'''\n",
    "factory methde is a class method that create a object in \n",
    "'''\n",
    "\n",
    "\n"
   ]
  },
  {
   "cell_type": "code",
   "execution_count": 65,
   "id": "068de70b",
   "metadata": {},
   "outputs": [
    {
     "name": "stdout",
     "output_type": "stream",
     "text": [
      "White 100\n"
     ]
    }
   ],
   "source": [
    "class Door:\n",
    "    def __init__(self, color, width):  # Fixed: Double underscores\n",
    "        self.color = color\n",
    "        self.width = width\n",
    "\n",
    "    @classmethod\n",
    "    def from_string(cls, info_str):\n",
    "        color, width = info_str.split(',')\n",
    "        return cls(color.strip(), int(width.strip()))\n",
    "\n",
    "# Example usage\n",
    "a = Door('Brown', 80)  # Now works!\n",
    "b = Door.from_string(\"White, 100\")\n",
    "print(b.color, b.width)  # Output: White 100"
   ]
  },
  {
   "cell_type": "code",
   "execution_count": null,
   "id": "6204d0ab",
   "metadata": {},
   "outputs": [],
   "source": [
    "# use case of class methode\n",
    "\n",
    "class Donut:\n",
    "    def __init__(self, falour, size):  # Fixed: Double underscores\n",
    "        self.falour = falour\n",
    "        self.size = size\n",
    "\n",
    "        "
   ]
  },
  {
   "cell_type": "code",
   "execution_count": 68,
   "id": "9f384edf",
   "metadata": {},
   "outputs": [
    {
     "name": "stdout",
     "output_type": "stream",
     "text": [
      "4\n"
     ]
    }
   ],
   "source": [
    "# how many object created \n",
    "\n",
    "class Car:\n",
    "    car_count=0\n",
    "    def __init__(self):\n",
    "        Car.car_count += 1\n",
    "    @classmethod\n",
    "    def classcount(cls):\n",
    "        return cls.car_count\n",
    "\n",
    "c1=Car()\n",
    "c2=Car()\n",
    "c3=Car()\n",
    "c4=Car()\n",
    "\n",
    "print(Car.classcount())        "
   ]
  },
  {
   "cell_type": "code",
   "execution_count": null,
   "id": "e0d63939",
   "metadata": {},
   "outputs": [
    {
     "name": "stdout",
     "output_type": "stream",
     "text": [
      "4\n"
     ]
    }
   ],
   "source": []
  },
  {
   "cell_type": "code",
   "execution_count": 72,
   "id": "78689509",
   "metadata": {},
   "outputs": [
    {
     "name": "stdout",
     "output_type": "stream",
     "text": [
      "First instance\n",
      "A second instance of Singleton is not allowed!\n"
     ]
    }
   ],
   "source": [
    "class Singleton:\n",
    "    _instance = None  # Class variable to store the single instance\n",
    "\n",
    "    def __new__(cls, *args, **kwargs):\n",
    "        if cls._instance is not None:\n",
    "            raise RuntimeError(\"A second instance of Singleton is not allowed!\")\n",
    "        cls._instance = super().__new__(cls)  # Fixed: Correct method and variable name\n",
    "        return cls._instance\n",
    "\n",
    "    def __init__(self, value):\n",
    "        self.value = value\n",
    "\n",
    "# Usage\n",
    "first = Singleton(\"First instance\")  # Works\n",
    "print(first.value)  # Output: First instance\n",
    "\n",
    "try:\n",
    "    second = Singleton(\"Second instance\")  # Raises error (as expected)\n",
    "except RuntimeError as e:\n",
    "    print(e)  # Output: A second instance of Singleton is not allowed!"
   ]
  },
  {
   "cell_type": "code",
   "execution_count": 73,
   "id": "264551b0",
   "metadata": {},
   "outputs": [
    {
     "name": "stdout",
     "output_type": "stream",
     "text": [
      "HEELO\n"
     ]
    }
   ],
   "source": [
    "class UpperStr(str):\n",
    "    def __new__(cls,content):\n",
    "        obj=super().__new__(cls,content.upper())\n",
    "        return obj\n",
    "    \n",
    "\n",
    "s=UpperStr(\"heelo\")    \n",
    "print(s)"
   ]
  },
  {
   "cell_type": "code",
   "execution_count": null,
   "id": "fc41191c",
   "metadata": {},
   "outputs": [],
   "source": []
  }
 ],
 "metadata": {
  "kernelspec": {
   "display_name": "base",
   "language": "python",
   "name": "python3"
  },
  "language_info": {
   "codemirror_mode": {
    "name": "ipython",
    "version": 3
   },
   "file_extension": ".py",
   "mimetype": "text/x-python",
   "name": "python",
   "nbconvert_exporter": "python",
   "pygments_lexer": "ipython3",
   "version": "3.12.7"
  }
 },
 "nbformat": 4,
 "nbformat_minor": 5
}
