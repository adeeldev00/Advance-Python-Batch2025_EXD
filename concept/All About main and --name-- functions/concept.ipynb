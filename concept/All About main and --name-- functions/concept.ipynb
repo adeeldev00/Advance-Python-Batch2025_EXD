{
 "cells": [
  {
   "cell_type": "markdown",
   "id": "93050d85",
   "metadata": {},
   "source": [
    "<h1 align='center'> Python mein main() aur __name__ ki Puri Samajh <h1>"
   ]
  },
  {
   "cell_type": "markdown",
   "id": "197fc32e",
   "metadata": {},
   "source": [
    "Acha main  and __name__ function kaya hai is ko detail me samjty hai \n",
    "* hum jnaty hai c and c++ jasi language main() function sy start hoti hai But Python me asa nahi hota python top of the file sy start hoti hai \n",
    "\n",
    "* to python me ya main() q zarrori hai"
   ]
  },
  {
   "cell_type": "markdown",
   "id": "973767c4",
   "metadata": {},
   "source": [
    "python me code ko organize karny k liy main ka use kiya jata hai ya waha use kiya jata hai jaha sy ap ko  program start karna hota hai ."
   ]
  },
  {
   "cell_type": "code",
   "execution_count": null,
   "id": "41d5958e",
   "metadata": {},
   "outputs": [],
   "source": [
    "def greet():\n",
    "    print(\"Hello, World!\")\n",
    "\n",
    "def main():\n",
    "    greet()  # greet() ko call karo\n",
    "\n",
    "main()  # main() ko call karo\n"
   ]
  },
  {
   "cell_type": "code",
   "execution_count": null,
   "id": "42697104",
   "metadata": {},
   "outputs": [],
   "source": [
    "def check_even_odd(number):\n",
    "    if number % 2 == 0:\n",
    "        print(number, \"is Even\")\n",
    "    else:\n",
    "        print(number, \"is Odd\")\n",
    "\n",
    "def main():\n",
    "    check_even_odd(7)\n",
    "\n",
    "main()"
   ]
  },
  {
   "cell_type": "markdown",
   "id": "251cb491",
   "metadata": {},
   "source": [
    "abi hum professional way sy main k under sab code rahk rehy hai and program main sy hi excute ho ga ,,"
   ]
  },
  {
   "cell_type": "markdown",
   "id": "7993af06",
   "metadata": {},
   "source": []
  },
  {
   "cell_type": "markdown",
   "id": "f12b48f5",
   "metadata": {},
   "source": [
    "<h1 align='center'>Problem (import module) <h1>"
   ]
  },
  {
   "cell_type": "markdown",
   "id": "d2c56b9f",
   "metadata": {},
   "source": [
    "* jab hum kohi module import karty hai to agr os me console ho to wo first time import karny par bi print ho jata hai to yaha par phir concept ata hai __name__ ka ,,, \n",
    "\n",
    "Python ne ek special variable diya hai: __name__\n",
    "\n",
    "* Jab aap script DIRECTLY run karte ho, toh __name__ ki value \"__main__\" hoti hai.\n",
    "* Jab aap script ko IMPORT karte ho, toh __name__ ki value file ke naam (e.g., \"myscript\") hoti hai.\n",
    "\n",
    "Mean k jab m module ko osi module k under run karti ho to --name-- is value main ho jati hai or code starting sy run ho jata hai but jab hum import karty hai to ab __name__ ki value ab main nahi ab file name ho gi hai to is waja jy import vali file me bi print statement show hoti hai ,, eg => module1 so jo module k under code ho ga wo excute ho jata hai\n",
    "* to is k solution ya hai k module vali me file conditioning lagi jy mean ya print vala function os time hi excute ho jab __name__=__main__ ho ga and import jaha ho hai waha par __name__=filename ho gaya hai to ya print vala function kam nahi kary ga .. \n",
    "* let we try down"
   ]
  },
  {
   "cell_type": "markdown",
   "id": "15675e9a",
   "metadata": {},
   "source": []
  },
  {
   "cell_type": "code",
   "execution_count": 12,
   "id": "834c31a5",
   "metadata": {},
   "outputs": [],
   "source": [
    "import demomodule"
   ]
  },
  {
   "cell_type": "markdown",
   "id": "670e78db",
   "metadata": {},
   "source": [
    "ya above code run karny sy humari module ka function bi excute ho ga is ka solution ya hai ,\n",
    "* go to module and check if __name__=__main__ then hi function excute ho mean yaha par hum kah rehy hai k jab hum directely function excute kary to hi ya excute ho "
   ]
  },
  {
   "cell_type": "code",
   "execution_count": null,
   "id": "2d30acf0",
   "metadata": {},
   "outputs": [
    {
     "name": "stdout",
     "output_type": "stream",
     "text": [
      "This is my function\n"
     ]
    }
   ],
   "source": [
    "# ab import karny sy kuch print nahi ho ga humy print karny k liy ab \n",
    "# demodule and function name likhna ho ga"
   ]
  },
  {
   "cell_type": "code",
   "execution_count": 1,
   "id": "20ae8b30",
   "metadata": {},
   "outputs": [
    {
     "name": "stdout",
     "output_type": "stream",
     "text": [
      "hello\n",
      "This is my function\n",
      "['__builtins__', '__cached__', '__doc__', '__file__', '__loader__', '__name__', '__package__', '__spec__', 'greet', 'my_function']\n"
     ]
    }
   ],
   "source": [
    "import demomodule\n",
    "demomodule.greet()\n",
    "demomodule.my_function()\n",
    "print(dir(demomodule))"
   ]
  },
  {
   "cell_type": "code",
   "execution_count": null,
   "id": "1a0d98dc",
   "metadata": {},
   "outputs": [],
   "source": []
  }
 ],
 "metadata": {
  "kernelspec": {
   "display_name": "base",
   "language": "python",
   "name": "python3"
  },
  "language_info": {
   "codemirror_mode": {
    "name": "ipython",
    "version": 3
   },
   "file_extension": ".py",
   "mimetype": "text/x-python",
   "name": "python",
   "nbconvert_exporter": "python",
   "pygments_lexer": "ipython3",
   "version": "3.12.7"
  }
 },
 "nbformat": 4,
 "nbformat_minor": 5
}
