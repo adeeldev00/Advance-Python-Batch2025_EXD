{
 "cells": [
  {
   "cell_type": "markdown",
   "id": "9ee3897b",
   "metadata": {},
   "source": [
    "<h1 align='center'> Learn all About packages <h1>"
   ]
  },
  {
   "cell_type": "markdown",
   "id": "4ba58351",
   "metadata": {},
   "source": [
    "first thing what is package ?\n",
    "* Actually what is package is a collection of module , actually is used to strcture , Actually jab humare pas  bhot sy module ban jaty hai to hum os ko structure karny k liy package me rahk lety hai .\n",
    "* Actually package is directory and modules in it is sub directoty .\n",
    " "
   ]
  },
  {
   "cell_type": "markdown",
   "id": "04b54fe2",
   "metadata": {},
   "source": [
    "actually kasi folder ko package bany k liy os me __init__.py ki file bana zarrori hota hai but in old python new python 3.3 sy upr automatically detect kar leta hai but it best practice to handle this and create a __init__.py file "
   ]
  },
  {
   "cell_type": "markdown",
   "id": "783f0afe",
   "metadata": {},
   "source": [
    "now i create two package init and each one me m ny __init__.py ki file bani hai  ya ak special file hai jo package ko define karny k liy user hoti hai ."
   ]
  },
  {
   "cell_type": "markdown",
   "id": "14d3c193",
   "metadata": {},
   "source": [
    "<h2 align='center'>In Python __init__.py file Role<h2>"
   ]
  },
  {
   "cell_type": "markdown",
   "id": "80e7c5d0",
   "metadata": {},
   "source": [
    "ya python ko bati hai k ya folder ak package hai na k normal folder\n",
    "__init__.py ka k 3 main kam hai \n",
    "1) jab ap package import karty hai to yaha par sb sy phele __init__.py file run hoti hai is me hum package level k function and variable defined kar sakty hai . \n",
    "you see k sb sy phele init file chali or os ka print staement chali "
   ]
  },
  {
   "cell_type": "code",
   "execution_count": 1,
   "id": "3b0ead05",
   "metadata": {},
   "outputs": [
    {
     "name": "stdout",
     "output_type": "stream",
     "text": [
      "helo world\n"
     ]
    }
   ],
   "source": [
    "import allpackages"
   ]
  },
  {
   "cell_type": "markdown",
   "id": "35a51edb",
   "metadata": {},
   "source": [
    "2) Now move to 2nd step => Controlling Imports like we specify which module  import when user type \n",
    "* from my_package import *"
   ]
  },
  {
   "cell_type": "code",
   "execution_count": null,
   "id": "fc78ec64",
   "metadata": {},
   "outputs": [],
   "source": [
    "# from allpackages import *\n"
   ]
  },
  {
   "cell_type": "markdown",
   "id": "7c51d63d",
   "metadata": {},
   "source": [
    "3) 3rd benifinit of init.py file you can import sub module on top or any where\n",
    "* from .module1 import some_function"
   ]
  },
  {
   "cell_type": "markdown",
   "id": "24b70a6e",
   "metadata": {},
   "source": [
    "## Example \n",
    "* m ny allpackge me init.py me from . import package2 __all__ = ['package2']  ab sir all package me sy package two hi import ho ga or os ko hum verify bi kar sakty hai dir check kar k "
   ]
  },
  {
   "cell_type": "code",
   "execution_count": 5,
   "id": "76843a42",
   "metadata": {},
   "outputs": [
    {
     "name": "stdout",
     "output_type": "stream",
     "text": [
      "['__all__', '__builtins__', '__cached__', '__doc__', '__file__', '__loader__', '__name__', '__package__', '__path__', '__spec__', 'package2']\n"
     ]
    }
   ],
   "source": [
    "import allpackages\n",
    "print(dir(allpackages))"
   ]
  },
  {
   "cell_type": "code",
   "execution_count": 8,
   "id": "e13e446a",
   "metadata": {},
   "outputs": [
    {
     "name": "stdout",
     "output_type": "stream",
     "text": [
      "['In', 'Out', '_', '_7', '__', '___', '__builtin__', '__builtins__', '__doc__', '__loader__', '__name__', '__package__', '__spec__', '__vsc_ipynb_file__', '_dh', '_i', '_i1', '_i2', '_i3', '_i4', '_i5', '_i6', '_i7', '_i8', '_ih', '_ii', '_iii', '_oh', 'allpackages', 'ar', 'exit', 'get_ipython', 'open', 'quit']\n"
     ]
    }
   ],
   "source": [
    "# after make init change now you only seen one package but by provide full path we also used 2nd package also \n",
    "import allpackages.package1.arithmetic as ar\n",
    "ar.myadd(4,5)\n",
    "print(dir())"
   ]
  },
  {
   "cell_type": "code",
   "execution_count": null,
   "id": "d54ec235",
   "metadata": {},
   "outputs": [],
   "source": []
  }
 ],
 "metadata": {
  "kernelspec": {
   "display_name": "base",
   "language": "python",
   "name": "python3"
  },
  "language_info": {
   "codemirror_mode": {
    "name": "ipython",
    "version": 3
   },
   "file_extension": ".py",
   "mimetype": "text/x-python",
   "name": "python",
   "nbconvert_exporter": "python",
   "pygments_lexer": "ipython3",
   "version": "3.12.7"
  }
 },
 "nbformat": 4,
 "nbformat_minor": 5
}
