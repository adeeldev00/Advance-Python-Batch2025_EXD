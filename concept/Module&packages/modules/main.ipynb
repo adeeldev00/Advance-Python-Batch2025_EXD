{
 "cells": [
  {
   "cell_type": "markdown",
   "id": "1ac4495f",
   "metadata": {},
   "source": [
    "### Today i learn about modules and pockages in details."
   ]
  },
  {
   "cell_type": "markdown",
   "id": "8b364153",
   "metadata": {},
   "source": [
    "* module ko hum .py ki extension sy banty hai ya humare code ko clean or reuse karny k liy use hota hai mean agr hum ny function sum banya hai or os ko hum 10 jaga par use karna hai to  hum os ka ak module bana ly gy like ,,, givesum.py and dosri jaga par osy import kar ly gy"
   ]
  },
  {
   "cell_type": "code",
   "execution_count": 1,
   "id": "f2712ee2",
   "metadata": {},
   "outputs": [
    {
     "name": "stdout",
     "output_type": "stream",
     "text": [
      "i am imported for other file\n"
     ]
    },
    {
     "data": {
      "text/plain": [
       "3628800"
      ]
     },
     "execution_count": 1,
     "metadata": {},
     "output_type": "execute_result"
    }
   ],
   "source": [
    "import arth as ar\n",
    "ar.loger()\n",
    "ar.addition(5,98)\n",
    "ar.factorial(10)"
   ]
  },
  {
   "cell_type": "code",
   "execution_count": 9,
   "id": "b5438f0b",
   "metadata": {},
   "outputs": [
    {
     "name": "stdout",
     "output_type": "stream",
     "text": [
      "['c:\\\\Users\\\\AdeelRock\\\\.cursor\\\\new anaconda\\\\python312.zip', 'c:\\\\Users\\\\AdeelRock\\\\.cursor\\\\new anaconda\\\\DLLs', 'c:\\\\Users\\\\AdeelRock\\\\.cursor\\\\new anaconda\\\\Lib', 'c:\\\\Users\\\\AdeelRock\\\\.cursor\\\\new anaconda', '', 'C:\\\\Users\\\\AdeelRock\\\\AppData\\\\Roaming\\\\Python\\\\Python312\\\\site-packages', 'C:\\\\Users\\\\AdeelRock\\\\AppData\\\\Roaming\\\\Python\\\\Python312\\\\site-packages\\\\win32', 'C:\\\\Users\\\\AdeelRock\\\\AppData\\\\Roaming\\\\Python\\\\Python312\\\\site-packages\\\\win32\\\\lib', 'C:\\\\Users\\\\AdeelRock\\\\AppData\\\\Roaming\\\\Python\\\\Python312\\\\site-packages\\\\Pythonwin', 'c:\\\\Users\\\\AdeelRock\\\\.cursor\\\\new anaconda\\\\Lib\\\\site-packages', 'c:\\\\Users\\\\AdeelRock\\\\.cursor\\\\new anaconda\\\\Lib\\\\site-packages\\\\win32', 'c:\\\\Users\\\\AdeelRock\\\\.cursor\\\\new anaconda\\\\Lib\\\\site-packages\\\\win32\\\\lib', 'c:\\\\Users\\\\AdeelRock\\\\.cursor\\\\new anaconda\\\\Lib\\\\site-packages\\\\Pythonwin']\n"
     ]
    }
   ],
   "source": [
    "import sys\n",
    "print(sys.path)"
   ]
  },
  {
   "cell_type": "markdown",
   "id": "5f7f5710",
   "metadata": {},
   "source": [
    " * When we import the module named arithmetic, the interpreter first\n",
    " searches for a built-in module with that name. If not found, it then searches\n",
    " for a file namedarithmetic.pyinalist of directories given by the variables\n",
    " sys.path"
   ]
  },
  {
   "cell_type": "markdown",
   "id": "35c953db",
   "metadata": {},
   "source": [
    "<h2 align=\"center\"> Standard Modules <h2>"
   ]
  },
  {
   "cell_type": "markdown",
   "id": "df9594d2",
   "metadata": {},
   "source": [
    "it's also called some build in module in is predefined and well tested ,, it's usually use full in filehandling and like that tasks"
   ]
  },
  {
   "cell_type": "code",
   "execution_count": 10,
   "id": "5e39dc31",
   "metadata": {},
   "outputs": [
    {
     "data": {
      "text/plain": [
       "'Copyright (c) 2001-2023 Python Software Foundation.\\nAll Rights Reserved.\\n\\nCopyright (c) 2000 BeOpen.com.\\nAll Rights Reserved.\\n\\nCopyright (c) 1995-2001 Corporation for National Research Initiatives.\\nAll Rights Reserved.\\n\\nCopyright (c) 1991-1995 Stichting Mathematisch Centrum, Amsterdam.\\nAll Rights Reserved.'"
      ]
     },
     "execution_count": 10,
     "metadata": {},
     "output_type": "execute_result"
    }
   ],
   "source": [
    "import sys\n",
    "sys.copyright"
   ]
  },
  {
   "cell_type": "code",
   "execution_count": 11,
   "id": "8dcfcd53",
   "metadata": {},
   "outputs": [
    {
     "data": {
      "text/plain": [
       "'utf-8'"
      ]
     },
     "execution_count": 11,
     "metadata": {},
     "output_type": "execute_result"
    }
   ],
   "source": [
    "sys.getfilesystemencoding()"
   ]
  },
  {
   "cell_type": "code",
   "execution_count": 12,
   "id": "9b7f5183",
   "metadata": {},
   "outputs": [
    {
     "data": {
      "text/plain": [
       "namespace(name='cpython',\n",
       "          cache_tag='cpython-312',\n",
       "          version=sys.version_info(major=3, minor=12, micro=7, releaselevel='final', serial=0),\n",
       "          hexversion=51120112)"
      ]
     },
     "execution_count": 12,
     "metadata": {},
     "output_type": "execute_result"
    }
   ],
   "source": [
    "sys.implementation"
   ]
  },
  {
   "cell_type": "code",
   "execution_count": 13,
   "id": "50a5b936",
   "metadata": {},
   "outputs": [
    {
     "data": {
      "text/plain": [
       "'win32'"
      ]
     },
     "execution_count": 13,
     "metadata": {},
     "output_type": "execute_result"
    }
   ],
   "source": [
    "sys.platform"
   ]
  },
  {
   "cell_type": "code",
   "execution_count": 14,
   "id": "a691e04d",
   "metadata": {},
   "outputs": [
    {
     "data": {
      "text/plain": [
       "'3.12.7 | packaged by Anaconda, Inc. | (main, Oct  4 2024, 13:17:27) [MSC v.1929 64 bit (AMD64)]'"
      ]
     },
     "execution_count": 14,
     "metadata": {},
     "output_type": "execute_result"
    }
   ],
   "source": [
    "sys.version"
   ]
  },
  {
   "cell_type": "code",
   "execution_count": 15,
   "id": "f11674cc",
   "metadata": {},
   "outputs": [
    {
     "data": {
      "text/plain": [
       "'e:\\\\Programming Data by Adeel\\\\Python\\\\Python course by EXD\\\\Classes\\\\concept\\\\Module&packages'"
      ]
     },
     "execution_count": 15,
     "metadata": {},
     "output_type": "execute_result"
    }
   ],
   "source": [
    "%pwd"
   ]
  },
  {
   "cell_type": "markdown",
   "id": "2d357022",
   "metadata": {},
   "source": [
    "* jab hum module banty hai wo phele check hota hai k kaya wo avaible hai agr avaiable ho ga to mil jy ga otherwise ap k bana gaya module sy dee ga ,, ya nijy hum ny os import kar k hum ny list of directery dehk li "
   ]
  },
  {
   "cell_type": "code",
   "execution_count": 16,
   "id": "e3cb1504",
   "metadata": {},
   "outputs": [
    {
     "data": {
      "text/plain": [
       "['arth.py', 'main.ipynb', '__pycache__']"
      ]
     },
     "execution_count": 16,
     "metadata": {},
     "output_type": "execute_result"
    }
   ],
   "source": [
    "import os\n",
    "os.listdir()"
   ]
  },
  {
   "cell_type": "markdown",
   "id": "9c557edc",
   "metadata": {},
   "source": [
    "<h2 align='center'>Reload Module<h2>"
   ]
  },
  {
   "cell_type": "markdown",
   "id": "f36c4a27",
   "metadata": {},
   "source": [
    "* Actually jab hum ak module import karty hai to waha par wo ak time hi load hota hai ,, but agr ab humary module me kuch change ho ga to wo load nahi ho ga to yaha par ak or concept ata hai reloading"
   ]
  },
  {
   "cell_type": "code",
   "execution_count": 2,
   "id": "98113a04",
   "metadata": {},
   "outputs": [
    {
     "name": "stdout",
     "output_type": "stream",
     "text": [
      "This is the demomodule having only one print statement. It is located in the same directory in which this .ipynb file is...\n",
      "This is it...\n",
      "Happy Learning\n"
     ]
    }
   ],
   "source": [
    "'''\n",
    "yaha par jab m ny import kiya module to wo ak time load hoa sirf wo jo print statement ti module1 me wo sb print ho gi \n",
    ",first time run karny sy to run ho gaya hai but jab hum ny doubara run kiya to ya run bikul bi nahi or kuch print nahi hoa \n",
    "'''\n",
    "import module1\n"
   ]
  },
  {
   "cell_type": "markdown",
   "id": "04d1a527",
   "metadata": {},
   "source": [
    "* so agr hum chaty hai k mara module reload ho har time jab m run kar to is k liy ak  build_in module ka use kary gy "
   ]
  },
  {
   "cell_type": "code",
   "execution_count": 20,
   "id": "ac336944",
   "metadata": {},
   "outputs": [
    {
     "name": "stdout",
     "output_type": "stream",
     "text": [
      "This is the demomodule having only one print statement. It is located in the same directory in which this .ipynb file is...\n",
      "This is it...\n",
      "Happy Learning\n"
     ]
    },
    {
     "data": {
      "text/plain": [
       "<module 'module1' from 'e:\\\\Programming Data by Adeel\\\\Python\\\\Python course by EXD\\\\Classes\\\\concept\\\\Module&packages\\\\module1.py'>"
      ]
     },
     "execution_count": 20,
     "metadata": {},
     "output_type": "execute_result"
    }
   ],
   "source": [
    "import importlib\n",
    "importlib.reload(module1)"
   ]
  },
  {
   "cell_type": "code",
   "execution_count": 21,
   "id": "dc74cdcd",
   "metadata": {},
   "outputs": [
    {
     "name": "stdout",
     "output_type": "stream",
     "text": [
      "This is the demomodule having only one print statement. It is located in the same directory in which this .ipynb file is...\n",
      "This is it...\n",
      "Happy Learning\n"
     ]
    },
    {
     "data": {
      "text/plain": [
       "<module 'module1' from 'e:\\\\Programming Data by Adeel\\\\Python\\\\Python course by EXD\\\\Classes\\\\concept\\\\Module&packages\\\\module1.py'>"
      ]
     },
     "execution_count": 21,
     "metadata": {},
     "output_type": "execute_result"
    }
   ],
   "source": [
    "import importlib\n",
    "importlib.reload(module1)"
   ]
  },
  {
   "cell_type": "code",
   "execution_count": 23,
   "id": "54f69969",
   "metadata": {},
   "outputs": [],
   "source": [
    "import module1  # upr dono case me run ho ga but yaha par nahi hoa "
   ]
  },
  {
   "cell_type": "code",
   "execution_count": null,
   "id": "f7474d3f",
   "metadata": {},
   "outputs": [],
   "source": []
  }
 ],
 "metadata": {
  "kernelspec": {
   "display_name": "base",
   "language": "python",
   "name": "python3"
  },
  "language_info": {
   "codemirror_mode": {
    "name": "ipython",
    "version": 3
   },
   "file_extension": ".py",
   "mimetype": "text/x-python",
   "name": "python",
   "nbconvert_exporter": "python",
   "pygments_lexer": "ipython3",
   "version": "3.12.7"
  }
 },
 "nbformat": 4,
 "nbformat_minor": 5
}
